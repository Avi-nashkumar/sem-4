{
 "cells": [
  {
   "cell_type": "code",
   "execution_count": 11,
   "metadata": {},
   "outputs": [
    {
     "name": "stdout",
     "output_type": "stream",
     "text": [
      "24\n"
     ]
    }
   ],
   "source": [
    "##question 2\n",
    "\n",
    "def knapSack(B, cost, rating, n): \n",
    "    K = [[0 for x in range(B + 1)] for x in range(n + 1)]  \n",
    "    for i in range(n + 1): \n",
    "        for w in range(B + 1): \n",
    "            if i == 0 or B == 0: \n",
    "                K[i][B] = 0\n",
    "            elif cost[i-1] <= B: \n",
    "                K[i][B] = max(rating[i-1] + K[i-1][B-cost[i-1]],  K[i-1][B]) \n",
    "            else: \n",
    "                K[i][B] = K[i-1][B] \n",
    "  \n",
    "    return K[n][B] \n",
    "  \n",
    "rating = [24, 13, 23, 15, 16]     ####rating array \n",
    "cost = [ 12, 7, 11, 8, 9]         ####cost array \n",
    "B = 26                            #### B\n",
    "n = len(rating)                   #### n\n",
    "print(knapSack(B, cost, rating, n)) #### ANS\n",
    "  "
   ]
  },
  {
   "cell_type": "code",
   "execution_count": 15,
   "metadata": {},
   "outputs": [
    {
     "name": "stdout",
     "output_type": "stream",
     "text": [
      "enter B8\n",
      "enter the number of houses 5\n",
      "enter the cost of the house10\n",
      "enter the cost of the house3\n",
      "enter the cost of the house6\n",
      "enter the cost of the house4\n",
      "enter the cost of the house78\n",
      "2\n"
     ]
    }
   ],
   "source": [
    "##question 1\n",
    "\n",
    "def merge(left_list, right_list):\n",
    "    sorted_list = []\n",
    "    left_list_index = right_list_index = 0\n",
    "\n",
    "    left_list_length, right_list_length = len(left_list), len(right_list)\n",
    "\n",
    "    for _ in range(left_list_length + right_list_length):\n",
    "        if left_list_index < left_list_length and right_list_index < right_list_length:\n",
    "            if left_list[left_list_index] <= right_list[right_list_index]:\n",
    "                sorted_list.append(left_list[left_list_index])\n",
    "                left_list_index += 1\n",
    "            else:\n",
    "                sorted_list.append(right_list[right_list_index])\n",
    "                right_list_index += 1\n",
    "\n",
    "        elif left_list_index == left_list_length:\n",
    "            sorted_list.append(right_list[right_list_index])\n",
    "            right_list_index += 1\n",
    "\n",
    "        elif right_list_index == right_list_length:\n",
    "            sorted_list.append(left_list[left_list_index])\n",
    "            left_list_index += 1\n",
    "\n",
    "    return sorted_list\n",
    "\n",
    "\n",
    "def merge_sort(nums):\n",
    "\n",
    "    if len(nums) <= 1:\n",
    "        return nums\n",
    "\n",
    "    mid = len(nums) // 2\n",
    "\n",
    "    left_list = merge_sort(nums[:mid])\n",
    "    right_list = merge_sort(nums[mid:])\n",
    "\n",
    "    return merge(left_list, right_list)\n",
    "A=[]\n",
    "B=int(input(\"enter B\"))\n",
    "n=int(input(\"enter the number of houses \"))\n",
    "for i in range(n):\n",
    "    A.append(int(input(\"enter the cost of the house\")))\n",
    "C = merge_sort(A)\n",
    "su=0\n",
    "ct=0\n",
    "while(su<B):\n",
    "    su=su+C[ct]\n",
    "    ct+=1\n",
    "print(ct-1)    \n"
   ]
  },
  {
   "cell_type": "code",
   "execution_count": null,
   "metadata": {},
   "outputs": [],
   "source": []
  }
 ],
 "metadata": {
  "kernelspec": {
   "display_name": "Python 3",
   "language": "python",
   "name": "python3"
  },
  "language_info": {
   "codemirror_mode": {
    "name": "ipython",
    "version": 3
   },
   "file_extension": ".py",
   "mimetype": "text/x-python",
   "name": "python",
   "nbconvert_exporter": "python",
   "pygments_lexer": "ipython3",
   "version": "3.6.5"
  }
 },
 "nbformat": 4,
 "nbformat_minor": 2
}
